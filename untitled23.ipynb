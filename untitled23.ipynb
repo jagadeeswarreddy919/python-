{
  "nbformat": 4,
  "nbformat_minor": 0,
  "metadata": {
    "colab": {
      "provenance": [],
      "authorship_tag": "ABX9TyPrvwTjKj+ZN7t7ZyTA/C2y",
      "include_colab_link": true
    },
    "kernelspec": {
      "name": "python3",
      "display_name": "Python 3"
    },
    "language_info": {
      "name": "python"
    }
  },
  "cells": [
    {
      "cell_type": "markdown",
      "metadata": {
        "id": "view-in-github",
        "colab_type": "text"
      },
      "source": [
        "<a href=\"https://colab.research.google.com/github/jagadeeswarreddy919/python-/blob/main/untitled23.ipynb\" target=\"_parent\"><img src=\"https://colab.research.google.com/assets/colab-badge.svg\" alt=\"Open In Colab\"/></a>"
      ]
    },
    {
      "cell_type": "code",
      "execution_count": null,
      "metadata": {
        "colab": {
          "base_uri": "https://localhost:8080/"
        },
        "id": "RGAVkUe9-ziP",
        "outputId": "87e21ad1-b169-4923-f4b1-1beef9b53d0c"
      },
      "outputs": [
        {
          "output_type": "stream",
          "name": "stdout",
          "text": [
            "enter a number5\n",
            "enter a number11\n",
            "enter a operator-\n",
            "-6\n"
          ]
        }
      ],
      "source": [
        "while True:\n",
        "  x=int(input(\"enter a number\"))\n",
        "  y=int(input(\"enter a number\"))\n",
        "  c=input(\"enter a operator\")\n",
        "  if c==\"+\":\n",
        "      print(x+y)\n",
        "  elif c==\"-\":\n",
        "      print(x-y)\n",
        "  elif c==\"*\":\n",
        "      print(x*y)\n",
        "  else:\n",
        "      print(\"na\")\n"
      ]
    },
    {
      "cell_type": "code",
      "source": [],
      "metadata": {
        "id": "x47NmAz8FRDV"
      },
      "execution_count": null,
      "outputs": []
    }
  ]
}